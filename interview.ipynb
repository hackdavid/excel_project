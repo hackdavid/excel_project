{
  "nbformat": 4,
  "nbformat_minor": 0,
  "metadata": {
    "colab": {
      "name": "Untitled21.ipynb",
      "provenance": [],
      "authorship_tag": "ABX9TyN/j9Znsnn8pGwO0NE6gZsB",
      "include_colab_link": true
    },
    "kernelspec": {
      "name": "python3",
      "display_name": "Python 3"
    },
    "language_info": {
      "name": "python"
    }
  },
  "cells": [
    {
      "cell_type": "markdown",
      "metadata": {
        "id": "view-in-github",
        "colab_type": "text"
      },
      "source": [
        "<a href=\"https://colab.research.google.com/github/hackdavid/excel_project/blob/master/interview.ipynb\" target=\"_parent\"><img src=\"https://colab.research.google.com/assets/colab-badge.svg\" alt=\"Open In Colab\"/></a>"
      ]
    },
    {
      "cell_type": "code",
      "execution_count": 2,
      "metadata": {
        "colab": {
          "base_uri": "https://localhost:8080/"
        },
        "id": "VcbQuC-kyfBn",
        "outputId": "7869dffd-316f-4212-e848-c903ebb123b3"
      },
      "outputs": [
        {
          "output_type": "stream",
          "name": "stdout",
          "text": [
            "6\n",
            "{1, 2, 3, 4, 5, 6}\n"
          ]
        }
      ],
      "source": [
        "a=[1,2,3,4,5,5,6]\n",
        "print(a[-1])\n",
        "print(set(a))\n",
        "b={'name':'daud','age':'daud'}"
      ]
    },
    {
      "cell_type": "code",
      "source": [
        "p=lambda x:x*5\n",
        "print(p(4))"
      ],
      "metadata": {
        "colab": {
          "base_uri": "https://localhost:8080/"
        },
        "id": "j_z3P9Su1ouo",
        "outputId": "37951a0d-1c6b-435e-fef3-17012f60f470"
      },
      "execution_count": 4,
      "outputs": [
        {
          "output_type": "stream",
          "name": "stdout",
          "text": [
            "20\n"
          ]
        }
      ]
    },
    {
      "cell_type": "code",
      "source": [
        "a.remove(6)\n",
        "print(a)"
      ],
      "metadata": {
        "colab": {
          "base_uri": "https://localhost:8080/"
        },
        "id": "6dgnMaKK2N1f",
        "outputId": "7ac339ca-fe45-4ccd-caa0-1119647b0382"
      },
      "execution_count": 5,
      "outputs": [
        {
          "output_type": "stream",
          "name": "stdout",
          "text": [
            "[1, 2, 3, 4, 5, 5]\n"
          ]
        }
      ]
    },
    {
      "cell_type": "code",
      "source": [
        "import pandas as pd"
      ],
      "metadata": {
        "id": "s5DwgP-U24K8"
      },
      "execution_count": 6,
      "outputs": []
    },
    {
      "cell_type": "code",
      "source": [
        "from operator import delitem\n",
        "df = pd.DataFrame({'row': ['00000-UNITED STATES', '01000-ALABAMA', '01001-Autauga County, AL', '01003-Baldwin County, AL','01005-Barbour County, AL']})\n",
        "print(df['row'].str.split('-'))"
      ],
      "metadata": {
        "colab": {
          "base_uri": "https://localhost:8080/"
        },
        "id": "jDmecQI_2l-i",
        "outputId": "dc0a7204-d96b-4df2-c644-63637d0f04f8"
      },
      "execution_count": 27,
      "outputs": [
        {
          "output_type": "stream",
          "name": "stdout",
          "text": [
            "0         [00000, UNITED STATES]\n",
            "1               [01000, ALABAMA]\n",
            "2    [01001, Autauga County, AL]\n",
            "3    [01003, Baldwin County, AL]\n",
            "4    [01005, Barbour County, AL]\n",
            "Name: row, dtype: object\n"
          ]
        }
      ]
    },
    {
      "cell_type": "code",
      "source": [
        "inputs='daud'\n",
        "output='122333aaaa!!!!!'\n",
        "temp=''\n",
        "for i in range(len(inputs)):\n",
        "  for j in range(i+1):\n",
        "    temp=temp+inputs[i]\n",
        "print(temp)\n",
        "\n",
        "\n"
      ],
      "metadata": {
        "colab": {
          "base_uri": "https://localhost:8080/"
        },
        "id": "MVFLog073F_Y",
        "outputId": "88a31847-9711-4ec6-b9f3-aebabc70f735"
      },
      "execution_count": 12,
      "outputs": [
        {
          "output_type": "stream",
          "name": "stdout",
          "text": [
            "daauuudddd\n"
          ]
        }
      ]
    },
    {
      "cell_type": "code",
      "source": [
        "write a program to generate the sequences based on the length passed as an input, from the given input string.\n",
        "For example, if the input string is “abc”, and input length is 2, then the output must be {ab,bc} only (only the consecutive sequences allowed)\n",
        "If the input is “abcde” and length is 3, then output must be {abc, bcd, cde}"
      ],
      "metadata": {
        "id": "c3JwGVw74ety"
      },
      "execution_count": null,
      "outputs": []
    },
    {
      "cell_type": "code",
      "source": [
        "m='abcde'\n",
        "n=2\n",
        "res=[]\n",
        "for i in range(len(m)):\n",
        "  if len(m)<n:\n",
        "    break\n",
        "  else:\n",
        "    c=0\n",
        "    ts=''\n",
        "    for j in range(i,len(m)):\n",
        "      if c==n or len(m[i:])<n:\n",
        "        temp=1\n",
        "      else:\n",
        "        c=c+1\n",
        "        ts=ts+m[j]\n",
        "    if len(ts)==n:\n",
        "      res.append(ts)\n",
        "print(res)\n"
      ],
      "metadata": {
        "colab": {
          "base_uri": "https://localhost:8080/"
        },
        "id": "LnO1tEUL5OuA",
        "outputId": "8a2e3912-60de-4f06-c926-b3f13a041199"
      },
      "execution_count": 22,
      "outputs": [
        {
          "output_type": "stream",
          "name": "stdout",
          "text": [
            "['ab', 'bc', 'cd', 'de']\n"
          ]
        }
      ]
    },
    {
      "cell_type": "code",
      "source": [
        "lists1=[10,3,11,45,2,20,45,98,65]\n",
        "res=[]\n",
        "for i in range(len(lists1)):\n",
        "  for j in range(i+1,len(lists1)):\n",
        "    if lists1[j]<lists1[i]:\n",
        "      temp=lists1[i]\n",
        "      lists1[i]=lists1[j]\n",
        "      lists1[j]=temp\n",
        "print(lists1)\n",
        "print(lists1[3])\n",
        "\n",
        "\n"
      ],
      "metadata": {
        "colab": {
          "base_uri": "https://localhost:8080/"
        },
        "id": "VIep0Umy6Zpe",
        "outputId": "48071b90-37c8-4188-ba6c-b3f5e3c5c5fa"
      },
      "execution_count": 39,
      "outputs": [
        {
          "output_type": "stream",
          "name": "stdout",
          "text": [
            "[2, 3, 10, 11, 20, 45, 45, 65, 98]\n",
            "11\n"
          ]
        }
      ]
    },
    {
      "cell_type": "code",
      "source": [
        "Write a query to fetch the department-wise count of employees sorted by department’s count in ascending order."
      ],
      "metadata": {
        "id": "2nKr931y8gx2"
      },
      "execution_count": null,
      "outputs": []
    },
    {
      "cell_type": "code",
      "source": [
        "select count(employess) from table1 group by department_name order by count(employee);"
      ],
      "metadata": {
        "id": "obK2sQxX9drk"
      },
      "execution_count": null,
      "outputs": []
    },
    {
      "cell_type": "code",
      "source": [
        ""
      ],
      "metadata": {
        "id": "uAxbm4g--eVS"
      },
      "execution_count": null,
      "outputs": []
    },
    {
      "cell_type": "code",
      "source": [
        ""
      ],
      "metadata": {
        "id": "SCo71YSH-eYA"
      },
      "execution_count": null,
      "outputs": []
    },
    {
      "cell_type": "code",
      "source": [
        "product_pattern = 'xxxx-xxx-xxx'\n",
        "product_list = [\n",
        "        'c-24-vvd-11g4',\n",
        "        '22x-r2x-vv33',\n",
        "        'ddxx-fsw-xdx',\n",
        "        'ccx-fd-f3',\n",
        "        'ghx-02c-c4hh',\n",
        "        '111-r2x-vss',\n",
        "        's-r-4cxc',\n",
        "        'ss2-dff-xsd',\n",
        "        '33-df-vg-12-87'\n",
        "]"
      ],
      "metadata": {
        "id": "pKZ87me7-eaw"
      },
      "execution_count": 37,
      "outputs": []
    },
    {
      "cell_type": "code",
      "source": [
        "\"\"\"\n",
        "Requirements: Please extract the products from the product_list, which are matching with the product_pattern.\n",
        "\"\"\""
      ],
      "metadata": {
        "id": "lsSUJ69J-edj"
      },
      "execution_count": null,
      "outputs": []
    },
    {
      "cell_type": "code",
      "source": [
        "Output: ['c-24-vvd-11g4']"
      ],
      "metadata": {
        "id": "U7A381Kn-epG"
      },
      "execution_count": null,
      "outputs": []
    },
    {
      "cell_type": "code",
      "source": [
        "patterns=product_pattern.split('-')\n",
        "result=[]\n",
        "for item in product_list:\n",
        "  temp=item.split('-')\n",
        "  if len(temp)==len(patterns):\n",
        "    token=0\n",
        "    for x,y in zip(patterns,temp):\n",
        "      if len(x)==len(y):\n",
        "        pass\n",
        "      else:\n",
        "        token=1\n",
        "    if token==0:\n",
        "      result.append(item)\n",
        "print(result)"
      ],
      "metadata": {
        "colab": {
          "base_uri": "https://localhost:8080/"
        },
        "id": "wgHSOo78-esz",
        "outputId": "85b5ff6d-501f-4f34-9ab4-b81075cef438"
      },
      "execution_count": 38,
      "outputs": [
        {
          "output_type": "stream",
          "name": "stdout",
          "text": [
            "['ddxx-fsw-xdx']\n"
          ]
        }
      ]
    },
    {
      "cell_type": "code",
      "source": [
        "Requirements:\n",
        "Consider following models, Please optimize below piece of code.\n",
        "Employee:\n",
        "        name\n",
        "        phone\n",
        "        email\n",
        "Salary:\n",
        "        emp (FK from Employee)\n",
        "        amount\n",
        "======================================\n",
        "employee_ids = [12,511,33,200,399]\n",
        "user_data = {}\n",
        "for id in employee_ids:\n",
        "        emp_record = Employee.objects.filter(pk=id)\n",
        "        sal_record = Salary.objects.filter(emp=id)\n",
        "        user_data['name'] = emp_record['name']\n",
        "        user_data['phone'] = emp_record['phone']\n",
        "        user_data['salary'] = sal_record['amount']\n",
        "print(user_data)"
      ],
      "metadata": {
        "id": "r1pg6MIr-evf"
      },
      "execution_count": null,
      "outputs": []
    },
    {
      "cell_type": "code",
      "source": [
        "results=employee.objects.filter(id__in=employee_ids)\n",
        "for item in result:\n",
        "  user_data['name']=item['name']\n",
        "  user_data['salary']=item.id.amount\n",
        "  user_Data['phone']=item['phone']"
      ],
      "metadata": {
        "id": "hVhkIcWiU2CA"
      },
      "execution_count": null,
      "outputs": []
    },
    {
      "cell_type": "code",
      "source": [
        ""
      ],
      "metadata": {
        "id": "oud_KTjDca8W"
      },
      "execution_count": null,
      "outputs": []
    },
    {
      "cell_type": "code",
      "source": [
        ""
      ],
      "metadata": {
        "id": "k3MNjrbmcbRu"
      },
      "execution_count": null,
      "outputs": []
    },
    {
      "cell_type": "code",
      "source": [
        "\n",
        "    input = \"daudibrahim\"\n",
        "​[16:10] Binayak Chatterjee (Guest)\n",
        "    output = \"addubiarihm\"\n",
        "​[16:11] Binayak Chatterjee (Guest)\n",
        "    n = 2\n",
        "​[16:11] Binayak Chatterjee (Guest)\n",
        "    n=3 \n",
        "output = \"uadbidharmi\"\n"
      ],
      "metadata": {
        "id": "C_Z3176gcbdC"
      },
      "execution_count": null,
      "outputs": []
    },
    {
      "cell_type": "code",
      "source": [
        "a='daudibrahim'\n",
        "output='addubiarihm'\n"
      ],
      "metadata": {
        "colab": {
          "base_uri": "https://localhost:8080/"
        },
        "id": "tta5vzyzcbn3",
        "outputId": "38321f54-794c-4ee2-f1c8-a7ad9035d006"
      },
      "execution_count": 52,
      "outputs": [
        {
          "output_type": "stream",
          "name": "stdout",
          "text": [
            "ad\n"
          ]
        }
      ]
    },
    {
      "cell_type": "code",
      "source": [
        "n=3\n",
        "res=''\n",
        "for i in range(0,len(a),n):\n",
        "  m=i+1*n\n",
        "  pk=a[i:m]\n",
        "  if len(pk)<n:\n",
        "    res=res+pk\n",
        "  else:\n",
        "    t=pk[::-1]\n",
        "    res=res+t\n",
        "print(res)"
      ],
      "metadata": {
        "colab": {
          "base_uri": "https://localhost:8080/"
        },
        "id": "6qVAoDEBjReu",
        "outputId": "eb40de22-b72a-45f7-9818-43dbabf9a256"
      },
      "execution_count": 58,
      "outputs": [
        {
          "output_type": "stream",
          "name": "stdout",
          "text": [
            "uadbidharim\n"
          ]
        }
      ]
    },
    {
      "cell_type": "code",
      "source": [
        "n=3\n",
        "c=0\n",
        "res=''\n",
        "temp=''\n",
        "for i in range(len(a)):\n",
        "  if len(a[i:])>n:\n",
        "    if c==n:\n",
        "      print(temp)\n",
        "      c=0\n",
        "      at=temp[::-1]\n",
        "      res=res+at\n",
        "      temp=''\n",
        "      temp=temp+a[i]\n",
        "      c=c+1\n",
        "    else:\n",
        "      temp=temp+a[i]\n",
        "      c=c+1\n",
        "  else:\n",
        "    print(a[i:])\n",
        "    res=res+a[i]\n",
        "print(res)\n"
      ],
      "metadata": {
        "colab": {
          "base_uri": "https://localhost:8080/"
        },
        "id": "Hdfpb7nocbyP",
        "outputId": "28080d4e-57fb-40e2-e759-59d60fae049f"
      },
      "execution_count": 53,
      "outputs": [
        {
          "output_type": "stream",
          "name": "stdout",
          "text": [
            "dau\n",
            "dib\n",
            "him\n",
            "im\n",
            "m\n",
            "uadbidhim\n"
          ]
        }
      ]
    },
    {
      "cell_type": "code",
      "source": [
        "l1 = [1,2,3,4,1,3,2,3,4,5,5]\n",
        "temp={}\n",
        "p=[]\n",
        "for item in l1:\n",
        "  if item not in temp:\n",
        "    a=l1.count(item)\n",
        "    temp[item]=a\n",
        "    p.append(a)\n",
        "p.sort(reverse=True)\n",
        "for key,val in temp.items():\n",
        "  if val==p[0]:\n",
        "    print('maximum occurance')\n",
        "\n",
        "# minium and maximum occurance along with the elements"
      ],
      "metadata": {
        "colab": {
          "base_uri": "https://localhost:8080/"
        },
        "id": "qqNtov7nccm0",
        "outputId": "e0a96ee7-abf3-42ab-b887-f1312a205fbe"
      },
      "execution_count": 65,
      "outputs": [
        {
          "output_type": "stream",
          "name": "stdout",
          "text": [
            "[3, 2, 2, 2, 2]\n",
            "{1: 2, 2: 2, 3: 3, 4: 2, 5: 2}\n"
          ]
        }
      ]
    },
    {
      "cell_type": "code",
      "source": [
        "def firsts(a,b):\n",
        "  return a+b\n",
        "def tests():\n",
        "  assert firsts(5,5)==10\n"
      ],
      "metadata": {
        "id": "fylvIg8LccyD"
      },
      "execution_count": 70,
      "outputs": []
    },
    {
      "cell_type": "code",
      "source": [
        "!pytest -v tests"
      ],
      "metadata": {
        "colab": {
          "base_uri": "https://localhost:8080/"
        },
        "id": "ZCtWJauD318T",
        "outputId": "8583c712-c201-4006-e59b-9682103ea80b"
      },
      "execution_count": 69,
      "outputs": [
        {
          "output_type": "stream",
          "name": "stdout",
          "text": [
            "\u001b[1m============================= test session starts ==============================\u001b[0m\n",
            "platform linux -- Python 3.7.13, pytest-3.6.4, py-1.11.0, pluggy-0.7.1 -- /usr/bin/python3\n",
            "cachedir: .pytest_cache\n",
            "rootdir: /content, inifile:\n",
            "plugins: typeguard-2.7.1\n",
            "\n",
            "\u001b[33m\u001b[1m========================= no tests ran in 0.01 seconds =========================\u001b[0m\n",
            "\u001b[31mERROR: file not found: tests\n",
            "\u001b[0m\n"
          ]
        }
      ]
    },
    {
      "cell_type": "code",
      "source": [
        ""
      ],
      "metadata": {
        "id": "b_m7aXqz32EZ"
      },
      "execution_count": 65,
      "outputs": []
    },
    {
      "cell_type": "code",
      "source": [
        ""
      ],
      "metadata": {
        "id": "JJ_V22vd32GO"
      },
      "execution_count": null,
      "outputs": []
    },
    {
      "cell_type": "code",
      "source": [
        ""
      ],
      "metadata": {
        "id": "dwZhgVLn32Hy"
      },
      "execution_count": null,
      "outputs": []
    }
  ]
}